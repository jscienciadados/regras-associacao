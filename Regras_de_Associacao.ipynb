{
  "nbformat": 4,
  "nbformat_minor": 0,
  "metadata": {
    "colab": {
      "name": "Regras-de-Associacao.ipynb",
      "provenance": []
    },
    "kernelspec": {
      "name": "python3",
      "display_name": "Python 3"
    },
    "language_info": {
      "name": "python"
    }
  },
  "cells": [
    {
      "cell_type": "markdown",
      "metadata": {
        "id": "k1FUvJ0I3HQf"
      },
      "source": [
        "#<font color=\"DarkOrange\">Machine Learning</font>\n",
        "\n",
        "Apyori -> Algoritmo para minerar regras de associação"
      ]
    },
    {
      "cell_type": "code",
      "metadata": {
        "colab": {
          "base_uri": "https://localhost:8080/"
        },
        "id": "H7I2qRC-28nl",
        "outputId": "a70aeec2-27f6-45e6-a79b-2d65536653c3"
      },
      "source": [
        "!pip install apyori"
      ],
      "execution_count": 1,
      "outputs": [
        {
          "output_type": "stream",
          "text": [
            "Collecting apyori\n",
            "  Downloading https://files.pythonhosted.org/packages/5e/62/5ffde5c473ea4b033490617ec5caa80d59804875ad3c3c57c0976533a21a/apyori-1.1.2.tar.gz\n",
            "Building wheels for collected packages: apyori\n",
            "  Building wheel for apyori (setup.py) ... \u001b[?25l\u001b[?25hdone\n",
            "  Created wheel for apyori: filename=apyori-1.1.2-cp37-none-any.whl size=5975 sha256=5b52bc9894bbf9e10a1f48acb86d9488bc1034410e6f341289280bbf2da8c7f4\n",
            "  Stored in directory: /root/.cache/pip/wheels/5d/92/bb/474bbadbc8c0062b9eb168f69982a0443263f8ab1711a8cad0\n",
            "Successfully built apyori\n",
            "Installing collected packages: apyori\n",
            "Successfully installed apyori-1.1.2\n"
          ],
          "name": "stdout"
        }
      ]
    },
    {
      "cell_type": "code",
      "metadata": {
        "id": "NPJhQfS74Awt"
      },
      "source": [
        "# Imports\n",
        "import pandas as pd\n",
        "import numpy as np\n",
        "from apyori import apriori"
      ],
      "execution_count": 2,
      "outputs": []
    },
    {
      "cell_type": "code",
      "metadata": {
        "colab": {
          "base_uri": "https://localhost:8080/",
          "height": 235
        },
        "id": "w-9-yTe64QNE",
        "outputId": "dd58848c-c0b2-4cdd-84f8-d439bd5222cf"
      },
      "source": [
        "# Carreagndo o arquivo contendo as transações -> .txt\n",
        "dados = pd.read_csv(\"dados/transacoes.txt\", header= None)\n",
        "dados"
      ],
      "execution_count": 3,
      "outputs": [
        {
          "output_type": "execute_result",
          "data": {
            "text/html": [
              "<div>\n",
              "<style scoped>\n",
              "    .dataframe tbody tr th:only-of-type {\n",
              "        vertical-align: middle;\n",
              "    }\n",
              "\n",
              "    .dataframe tbody tr th {\n",
              "        vertical-align: top;\n",
              "    }\n",
              "\n",
              "    .dataframe thead th {\n",
              "        text-align: right;\n",
              "    }\n",
              "</style>\n",
              "<table border=\"1\" class=\"dataframe\">\n",
              "  <thead>\n",
              "    <tr style=\"text-align: right;\">\n",
              "      <th></th>\n",
              "      <th>0</th>\n",
              "      <th>1</th>\n",
              "      <th>2</th>\n",
              "    </tr>\n",
              "  </thead>\n",
              "  <tbody>\n",
              "    <tr>\n",
              "      <th>0</th>\n",
              "      <td>Cerveja</td>\n",
              "      <td>Pizza</td>\n",
              "      <td>Sorvete</td>\n",
              "    </tr>\n",
              "    <tr>\n",
              "      <th>1</th>\n",
              "      <td>Pizza</td>\n",
              "      <td>Sorvete</td>\n",
              "      <td>NaN</td>\n",
              "    </tr>\n",
              "    <tr>\n",
              "      <th>2</th>\n",
              "      <td>Cerveja</td>\n",
              "      <td>Pizza</td>\n",
              "      <td>NaN</td>\n",
              "    </tr>\n",
              "    <tr>\n",
              "      <th>3</th>\n",
              "      <td>Cerveja</td>\n",
              "      <td>Pizza</td>\n",
              "      <td>Sorvete</td>\n",
              "    </tr>\n",
              "    <tr>\n",
              "      <th>4</th>\n",
              "      <td>Cerveja</td>\n",
              "      <td>Pizza</td>\n",
              "      <td>NaN</td>\n",
              "    </tr>\n",
              "    <tr>\n",
              "      <th>5</th>\n",
              "      <td>Pizza</td>\n",
              "      <td>NaN</td>\n",
              "      <td>NaN</td>\n",
              "    </tr>\n",
              "  </tbody>\n",
              "</table>\n",
              "</div>"
            ],
            "text/plain": [
              "         0        1        2\n",
              "0  Cerveja    Pizza  Sorvete\n",
              "1    Pizza  Sorvete      NaN\n",
              "2  Cerveja    Pizza      NaN\n",
              "3  Cerveja    Pizza  Sorvete\n",
              "4  Cerveja    Pizza      NaN\n",
              "5    Pizza      NaN      NaN"
            ]
          },
          "metadata": {
            "tags": []
          },
          "execution_count": 3
        }
      ]
    },
    {
      "cell_type": "markdown",
      "metadata": {
        "id": "JkzDopMm5B04"
      },
      "source": [
        "Transformação para o formato de lista -> que é exigido pela biblioteca apriori -> 6 é a quantidade de items na base de dados"
      ]
    },
    {
      "cell_type": "code",
      "metadata": {
        "colab": {
          "base_uri": "https://localhost:8080/"
        },
        "id": "zUg95jJJ461D",
        "outputId": "8862c51e-b8ec-4947-a4a8-0157df33748c"
      },
      "source": [
        "transacoes = []\n",
        "for i in range(0,6):\n",
        "  transacoes.append([str(dados.values[i,j]) for j in range(0,3)])\n",
        "transacoes  "
      ],
      "execution_count": 5,
      "outputs": [
        {
          "output_type": "execute_result",
          "data": {
            "text/plain": [
              "[['Cerveja', 'Pizza', 'Sorvete'],\n",
              " ['Pizza', 'Sorvete', 'nan'],\n",
              " ['Cerveja', 'Pizza', 'nan'],\n",
              " ['Cerveja', 'Pizza', 'Sorvete'],\n",
              " ['Cerveja', 'Pizza', 'nan'],\n",
              " ['Pizza', 'nan', 'nan']]"
            ]
          },
          "metadata": {
            "tags": []
          },
          "execution_count": 5
        }
      ]
    },
    {
      "cell_type": "markdown",
      "metadata": {
        "id": "ZozC4cop50gJ"
      },
      "source": [
        "Execução do algoritmo apriori para mineração das regras de associação, definindo os parametros de suporte e de confiança"
      ]
    },
    {
      "cell_type": "code",
      "metadata": {
        "id": "xNzo3C025Vt-"
      },
      "source": [
        "regras = apriori(transacoes, min_supprt = 0.5, min_confidence = 0.5, min_length=2)"
      ],
      "execution_count": 6,
      "outputs": []
    },
    {
      "cell_type": "markdown",
      "metadata": {
        "id": "3Ql882jv6aZp"
      },
      "source": [
        "Armazenando somente as regras geradas pelo algoritmo"
      ]
    },
    {
      "cell_type": "code",
      "metadata": {
        "colab": {
          "base_uri": "https://localhost:8080/"
        },
        "id": "BkZh6kD_6W_p",
        "outputId": "7b4c8fb2-3d4e-4c1f-d362-c9ba01fdecd4"
      },
      "source": [
        "resultados = list(regras)\n",
        "print(resultados[0])\n"
      ],
      "execution_count": 7,
      "outputs": [
        {
          "output_type": "stream",
          "text": [
            "RelationRecord(items=frozenset({'Cerveja'}), support=0.6666666666666666, ordered_statistics=[OrderedStatistic(items_base=frozenset(), items_add=frozenset({'Cerveja'}), confidence=0.6666666666666666, lift=1.0)])\n",
            "[RelationRecord(items=frozenset({'Cerveja'}), support=0.6666666666666666, ordered_statistics=[OrderedStatistic(items_base=frozenset(), items_add=frozenset({'Cerveja'}), confidence=0.6666666666666666, lift=1.0)]), RelationRecord(items=frozenset({'Pizza'}), support=1.0, ordered_statistics=[OrderedStatistic(items_base=frozenset(), items_add=frozenset({'Pizza'}), confidence=1.0, lift=1.0)]), RelationRecord(items=frozenset({'Sorvete'}), support=0.5, ordered_statistics=[OrderedStatistic(items_base=frozenset(), items_add=frozenset({'Sorvete'}), confidence=0.5, lift=1.0)]), RelationRecord(items=frozenset({'nan'}), support=0.6666666666666666, ordered_statistics=[OrderedStatistic(items_base=frozenset(), items_add=frozenset({'nan'}), confidence=0.6666666666666666, lift=1.0)]), RelationRecord(items=frozenset({'Cerveja', 'Pizza'}), support=0.6666666666666666, ordered_statistics=[OrderedStatistic(items_base=frozenset(), items_add=frozenset({'Cerveja', 'Pizza'}), confidence=0.6666666666666666, lift=1.0), OrderedStatistic(items_base=frozenset({'Cerveja'}), items_add=frozenset({'Pizza'}), confidence=1.0, lift=1.0), OrderedStatistic(items_base=frozenset({'Pizza'}), items_add=frozenset({'Cerveja'}), confidence=0.6666666666666666, lift=1.0)]), RelationRecord(items=frozenset({'Cerveja', 'Sorvete'}), support=0.3333333333333333, ordered_statistics=[OrderedStatistic(items_base=frozenset({'Cerveja'}), items_add=frozenset({'Sorvete'}), confidence=0.5, lift=1.0), OrderedStatistic(items_base=frozenset({'Sorvete'}), items_add=frozenset({'Cerveja'}), confidence=0.6666666666666666, lift=1.0)]), RelationRecord(items=frozenset({'nan', 'Cerveja'}), support=0.3333333333333333, ordered_statistics=[OrderedStatistic(items_base=frozenset({'Cerveja'}), items_add=frozenset({'nan'}), confidence=0.5, lift=0.75), OrderedStatistic(items_base=frozenset({'nan'}), items_add=frozenset({'Cerveja'}), confidence=0.5, lift=0.75)]), RelationRecord(items=frozenset({'Pizza', 'Sorvete'}), support=0.5, ordered_statistics=[OrderedStatistic(items_base=frozenset(), items_add=frozenset({'Pizza', 'Sorvete'}), confidence=0.5, lift=1.0), OrderedStatistic(items_base=frozenset({'Pizza'}), items_add=frozenset({'Sorvete'}), confidence=0.5, lift=1.0), OrderedStatistic(items_base=frozenset({'Sorvete'}), items_add=frozenset({'Pizza'}), confidence=1.0, lift=1.0)]), RelationRecord(items=frozenset({'nan', 'Pizza'}), support=0.6666666666666666, ordered_statistics=[OrderedStatistic(items_base=frozenset(), items_add=frozenset({'nan', 'Pizza'}), confidence=0.6666666666666666, lift=1.0), OrderedStatistic(items_base=frozenset({'Pizza'}), items_add=frozenset({'nan'}), confidence=0.6666666666666666, lift=1.0), OrderedStatistic(items_base=frozenset({'nan'}), items_add=frozenset({'Pizza'}), confidence=1.0, lift=1.0)]), RelationRecord(items=frozenset({'Cerveja', 'Pizza', 'Sorvete'}), support=0.3333333333333333, ordered_statistics=[OrderedStatistic(items_base=frozenset({'Cerveja'}), items_add=frozenset({'Pizza', 'Sorvete'}), confidence=0.5, lift=1.0), OrderedStatistic(items_base=frozenset({'Sorvete'}), items_add=frozenset({'Cerveja', 'Pizza'}), confidence=0.6666666666666666, lift=1.0), OrderedStatistic(items_base=frozenset({'Cerveja', 'Pizza'}), items_add=frozenset({'Sorvete'}), confidence=0.5, lift=1.0), OrderedStatistic(items_base=frozenset({'Cerveja', 'Sorvete'}), items_add=frozenset({'Pizza'}), confidence=1.0, lift=1.0), OrderedStatistic(items_base=frozenset({'Pizza', 'Sorvete'}), items_add=frozenset({'Cerveja'}), confidence=0.6666666666666666, lift=1.0)]), RelationRecord(items=frozenset({'nan', 'Cerveja', 'Pizza'}), support=0.3333333333333333, ordered_statistics=[OrderedStatistic(items_base=frozenset({'Cerveja'}), items_add=frozenset({'nan', 'Pizza'}), confidence=0.5, lift=0.75), OrderedStatistic(items_base=frozenset({'nan'}), items_add=frozenset({'Cerveja', 'Pizza'}), confidence=0.5, lift=0.75), OrderedStatistic(items_base=frozenset({'Cerveja', 'Pizza'}), items_add=frozenset({'nan'}), confidence=0.5, lift=0.75), OrderedStatistic(items_base=frozenset({'nan', 'Cerveja'}), items_add=frozenset({'Pizza'}), confidence=1.0, lift=1.0), OrderedStatistic(items_base=frozenset({'nan', 'Pizza'}), items_add=frozenset({'Cerveja'}), confidence=0.5, lift=0.75)]), RelationRecord(items=frozenset({'nan', 'Pizza', 'Sorvete'}), support=0.16666666666666666, ordered_statistics=[OrderedStatistic(items_base=frozenset({'nan', 'Sorvete'}), items_add=frozenset({'Pizza'}), confidence=1.0, lift=1.0)])]\n"
          ],
          "name": "stdout"
        }
      ]
    },
    {
      "cell_type": "code",
      "metadata": {
        "colab": {
          "base_uri": "https://localhost:8080/"
        },
        "id": "fCZueetT6shk",
        "outputId": "9f360e50-1d18-46f9-fcf0-a66dcef08bfc"
      },
      "source": [
        "resultados2 = [list(x) for x in resultados]\n",
        "resultados2"
      ],
      "execution_count": 8,
      "outputs": [
        {
          "output_type": "execute_result",
          "data": {
            "text/plain": [
              "[[frozenset({'Cerveja'}),\n",
              "  0.6666666666666666,\n",
              "  [OrderedStatistic(items_base=frozenset(), items_add=frozenset({'Cerveja'}), confidence=0.6666666666666666, lift=1.0)]],\n",
              " [frozenset({'Pizza'}),\n",
              "  1.0,\n",
              "  [OrderedStatistic(items_base=frozenset(), items_add=frozenset({'Pizza'}), confidence=1.0, lift=1.0)]],\n",
              " [frozenset({'Sorvete'}),\n",
              "  0.5,\n",
              "  [OrderedStatistic(items_base=frozenset(), items_add=frozenset({'Sorvete'}), confidence=0.5, lift=1.0)]],\n",
              " [frozenset({'nan'}),\n",
              "  0.6666666666666666,\n",
              "  [OrderedStatistic(items_base=frozenset(), items_add=frozenset({'nan'}), confidence=0.6666666666666666, lift=1.0)]],\n",
              " [frozenset({'Cerveja', 'Pizza'}),\n",
              "  0.6666666666666666,\n",
              "  [OrderedStatistic(items_base=frozenset(), items_add=frozenset({'Cerveja', 'Pizza'}), confidence=0.6666666666666666, lift=1.0),\n",
              "   OrderedStatistic(items_base=frozenset({'Cerveja'}), items_add=frozenset({'Pizza'}), confidence=1.0, lift=1.0),\n",
              "   OrderedStatistic(items_base=frozenset({'Pizza'}), items_add=frozenset({'Cerveja'}), confidence=0.6666666666666666, lift=1.0)]],\n",
              " [frozenset({'Cerveja', 'Sorvete'}),\n",
              "  0.3333333333333333,\n",
              "  [OrderedStatistic(items_base=frozenset({'Cerveja'}), items_add=frozenset({'Sorvete'}), confidence=0.5, lift=1.0),\n",
              "   OrderedStatistic(items_base=frozenset({'Sorvete'}), items_add=frozenset({'Cerveja'}), confidence=0.6666666666666666, lift=1.0)]],\n",
              " [frozenset({'Cerveja', 'nan'}),\n",
              "  0.3333333333333333,\n",
              "  [OrderedStatistic(items_base=frozenset({'Cerveja'}), items_add=frozenset({'nan'}), confidence=0.5, lift=0.75),\n",
              "   OrderedStatistic(items_base=frozenset({'nan'}), items_add=frozenset({'Cerveja'}), confidence=0.5, lift=0.75)]],\n",
              " [frozenset({'Pizza', 'Sorvete'}),\n",
              "  0.5,\n",
              "  [OrderedStatistic(items_base=frozenset(), items_add=frozenset({'Pizza', 'Sorvete'}), confidence=0.5, lift=1.0),\n",
              "   OrderedStatistic(items_base=frozenset({'Pizza'}), items_add=frozenset({'Sorvete'}), confidence=0.5, lift=1.0),\n",
              "   OrderedStatistic(items_base=frozenset({'Sorvete'}), items_add=frozenset({'Pizza'}), confidence=1.0, lift=1.0)]],\n",
              " [frozenset({'Pizza', 'nan'}),\n",
              "  0.6666666666666666,\n",
              "  [OrderedStatistic(items_base=frozenset(), items_add=frozenset({'nan', 'Pizza'}), confidence=0.6666666666666666, lift=1.0),\n",
              "   OrderedStatistic(items_base=frozenset({'Pizza'}), items_add=frozenset({'nan'}), confidence=0.6666666666666666, lift=1.0),\n",
              "   OrderedStatistic(items_base=frozenset({'nan'}), items_add=frozenset({'Pizza'}), confidence=1.0, lift=1.0)]],\n",
              " [frozenset({'Cerveja', 'Pizza', 'Sorvete'}),\n",
              "  0.3333333333333333,\n",
              "  [OrderedStatistic(items_base=frozenset({'Cerveja'}), items_add=frozenset({'Pizza', 'Sorvete'}), confidence=0.5, lift=1.0),\n",
              "   OrderedStatistic(items_base=frozenset({'Sorvete'}), items_add=frozenset({'Cerveja', 'Pizza'}), confidence=0.6666666666666666, lift=1.0),\n",
              "   OrderedStatistic(items_base=frozenset({'Cerveja', 'Pizza'}), items_add=frozenset({'Sorvete'}), confidence=0.5, lift=1.0),\n",
              "   OrderedStatistic(items_base=frozenset({'Cerveja', 'Sorvete'}), items_add=frozenset({'Pizza'}), confidence=1.0, lift=1.0),\n",
              "   OrderedStatistic(items_base=frozenset({'Pizza', 'Sorvete'}), items_add=frozenset({'Cerveja'}), confidence=0.6666666666666666, lift=1.0)]],\n",
              " [frozenset({'Cerveja', 'Pizza', 'nan'}),\n",
              "  0.3333333333333333,\n",
              "  [OrderedStatistic(items_base=frozenset({'Cerveja'}), items_add=frozenset({'nan', 'Pizza'}), confidence=0.5, lift=0.75),\n",
              "   OrderedStatistic(items_base=frozenset({'nan'}), items_add=frozenset({'Cerveja', 'Pizza'}), confidence=0.5, lift=0.75),\n",
              "   OrderedStatistic(items_base=frozenset({'Cerveja', 'Pizza'}), items_add=frozenset({'nan'}), confidence=0.5, lift=0.75),\n",
              "   OrderedStatistic(items_base=frozenset({'nan', 'Cerveja'}), items_add=frozenset({'Pizza'}), confidence=1.0, lift=1.0),\n",
              "   OrderedStatistic(items_base=frozenset({'nan', 'Pizza'}), items_add=frozenset({'Cerveja'}), confidence=0.5, lift=0.75)]],\n",
              " [frozenset({'Pizza', 'Sorvete', 'nan'}),\n",
              "  0.16666666666666666,\n",
              "  [OrderedStatistic(items_base=frozenset({'nan', 'Sorvete'}), items_add=frozenset({'Pizza'}), confidence=1.0, lift=1.0)]]]"
            ]
          },
          "metadata": {
            "tags": []
          },
          "execution_count": 8
        }
      ]
    },
    {
      "cell_type": "code",
      "metadata": {
        "id": "vZp_-8RI7NGf"
      },
      "source": [
        "# melhorando a visualização das regras\n",
        "resultados3 = []\n",
        "for j in range(0,7):\n",
        "  resultados3.append([list(x) for x in resultados2[j][2]])\n",
        "  "
      ],
      "execution_count": 9,
      "outputs": []
    },
    {
      "cell_type": "code",
      "metadata": {
        "colab": {
          "base_uri": "https://localhost:8080/"
        },
        "id": "TwJhA87O8BTD",
        "outputId": "31a144b2-4e0f-403b-92ea-826eb7944d01"
      },
      "source": [
        "resultados3"
      ],
      "execution_count": 10,
      "outputs": [
        {
          "output_type": "execute_result",
          "data": {
            "text/plain": [
              "[[[frozenset(), frozenset({'Cerveja'}), 0.6666666666666666, 1.0]],\n",
              " [[frozenset(), frozenset({'Pizza'}), 1.0, 1.0]],\n",
              " [[frozenset(), frozenset({'Sorvete'}), 0.5, 1.0]],\n",
              " [[frozenset(), frozenset({'nan'}), 0.6666666666666666, 1.0]],\n",
              " [[frozenset(), frozenset({'Cerveja', 'Pizza'}), 0.6666666666666666, 1.0],\n",
              "  [frozenset({'Cerveja'}), frozenset({'Pizza'}), 1.0, 1.0],\n",
              "  [frozenset({'Pizza'}), frozenset({'Cerveja'}), 0.6666666666666666, 1.0]],\n",
              " [[frozenset({'Cerveja'}), frozenset({'Sorvete'}), 0.5, 1.0],\n",
              "  [frozenset({'Sorvete'}), frozenset({'Cerveja'}), 0.6666666666666666, 1.0]],\n",
              " [[frozenset({'Cerveja'}), frozenset({'nan'}), 0.5, 0.75],\n",
              "  [frozenset({'nan'}), frozenset({'Cerveja'}), 0.5, 0.75]]]"
            ]
          },
          "metadata": {
            "tags": []
          },
          "execution_count": 10
        }
      ]
    },
    {
      "cell_type": "markdown",
      "metadata": {
        "id": "JSY1DLPN9-fu"
      },
      "source": [
        "# Minerando Regras com Eclat"
      ]
    },
    {
      "cell_type": "code",
      "metadata": {
        "id": "HvuXIer88IAU"
      },
      "source": [
        "# Imports\n",
        "import os;\n",
        "import sys;\n",
        "import numpy as np;\n",
        "import datetime as dt;\n",
        "from numpy import linalg as LA;\n",
        "import optparse;\n",
        "import argparse;"
      ],
      "execution_count": 11,
      "outputs": []
    },
    {
      "cell_type": "markdown",
      "metadata": {
        "id": "GTpbzany-qCE"
      },
      "source": [
        "Usaremos para a implementação deste algoritmo um codigo ja pronto disponivel no github - Data-Mining - Vachik Dave"
      ]
    },
    {
      "cell_type": "code",
      "metadata": {
        "id": "argtHfk7-UxW"
      },
      "source": [
        "# Global variable \n",
        "#containing all frequent patterns with its tid's\n",
        "F =[];\n",
        "# Time calculation\n",
        "#start_time =0;\n",
        "#end_time=0;\n",
        "\n",
        "# Pattern class:\n",
        "class Pattern:\n",
        "\tdef __init__(self, item, tids):\n",
        "\t\t# list of item Id's in the pattern\n",
        "\t\tself.item_id = item;\n",
        "\t\t# tid of the pattern\n",
        "\t\tself.tid_list = tids;\n",
        "\n",
        "\t# union operation of item Id's for two patterns to get ID of candidate pattern\n",
        "\tdef \tunion_id(self,next_node):\n",
        "\t\tt = set(self.item_id);\n",
        "\t\ttt = set(next_node.item_id);\n",
        "\t\tnew = t | tt;\n",
        "\t\tnew_id = list(new);\n",
        "\t\tnew_id.sort();\n",
        "\t\treturn new_id;\n",
        "\n",
        "\t# intersection of tid's of two patterns to find tid of candidate pattern\n",
        "\tdef \tintersec_tid_list(self,next_node):\n",
        "\t\tt = set(self.tid_list);\n",
        "\t\ttt = set(next_node.tid_list);\n",
        "\t\tnew = t & tt;\n",
        "\t\tnew_list = list(new);\n",
        "\t\tnew_list.sort();\n",
        "\t\treturn new_list;\n",
        "\t\n",
        "\t# returns support value for the pattern\n",
        "\tdef\tgetSup(self):\n",
        "\t\treturn len(self.tid_list);\n",
        "\t\n",
        "\t\n",
        "#\tdef\tcompare(self,n):\n",
        "#\t\tif self.item_id == n.item_id:\n",
        "#\t\t\treturn 1;\n",
        "#\t\treturn 0;\n",
        "\n",
        "\t#Candidate generation & check for support\t\n",
        "\tdef\tgenerate_check(self, n , minsup):\n",
        "\t\t\n",
        "\t\t# generating tid_list first\n",
        "\t\ttemp_tid_list = self.intersec_tid_list(n);\n",
        "\t\t\n",
        "\t\t# if support for new candidate is >= minsup then only generate ID for that candidate\t\t\n",
        "\t\tif len(temp_tid_list) >= minsup:\n",
        "\t\t\ttemp_id = self.union_id(n);\n",
        "\t\t\treturn (temp_id,temp_tid_list);\n",
        "\t\telse:\n",
        "\t\t\treturn ([],[]);\n",
        "\tdef\tpattern_print(self):\n",
        "\t\tpattern_ID = str(\"\");\n",
        "\t\tfor i in self.item_id:\n",
        "\t\t\tpattern_ID = pattern_ID + str(i) + ' ';\n",
        "\t\tprint(pattern_ID + '\\t\\t : ' + str(self.tid_list)); \n",
        "\t\t\t\n",
        "#End of Pattern class"
      ],
      "execution_count": 12,
      "outputs": []
    },
    {
      "cell_type": "code",
      "metadata": {
        "id": "j83senSc_HpA"
      },
      "source": [
        "# Pattern Store class:\n",
        "class PatternStore:\n",
        "\tdef \t__init__(self):\n",
        "\t\tself.Pattern_list = [];\n",
        "\t\n",
        "\t# Add a whole group of pattern to the list\n",
        "\tdef\taddGroup(self,list_nodes):\n",
        "\t\tfor n in list_nodes:\n",
        "\t\t\tself.Pattern_list.append(n);\n",
        "\n",
        "\t# Retursn i_th pattern from the list if available\n",
        "\tdef\tgetNode(self,index):\n",
        "\t\tif index < len(self.Pattern_list):\n",
        "\t\t\treturn self.Pattern_list[index];\n",
        "\t\telse:\n",
        "\t\t\treturn [];\n",
        "\t\n",
        "\t# To Fallow DFS method: Recursive function is used - to calculate all frequent patterns from the 1st level frequent list\n",
        "\tdef \tEclat(self,minsup):\n",
        "\t\tfor node in self.Pattern_list:\n",
        "\t\t\tF.append(node);\n",
        "\t\t\tnew_P = PatternStore();\n",
        "\t\t\t# As all patterns are sorted initially get only next pattern from the current\n",
        "\t\t\tindex = self.Pattern_list.index(node);\n",
        "\t\t\ti = index +1;\n",
        "\t\t\tn = self.getNode(i);\n",
        "\t\t\t\n",
        "\t\t\twhile n:\n",
        "\t\t\t\t# Here I am doing 2 steps togather: 1- candidate generation & 2- checking for minsup\n",
        "\t\t\t\t(temp_id,temp_tid_list) = node.generate_check(n,minsup);\n",
        "\t\t\t\t# if temp_id is not empty\t\t\t\t\n",
        "\t\t\t\tif temp_id:\t\t\t\t\n",
        "\t\t\t\t\tnew_P.Pattern_list.append(Pattern(temp_id,temp_tid_list));\n",
        "\t\t\t\ti = i +1;\n",
        "\t\t\t\t# get next node from the list\n",
        "\t\t\t\tn = self.getNode(i);\n",
        "\t\t\t# if any possible pattern child go to child first, DFS\n",
        "\t\t\tif new_P.Pattern_list:\n",
        "\t\t\t\tnew_P.Eclat(minsup);\n",
        "\n",
        "#End of PatternStore class"
      ],
      "execution_count": 13,
      "outputs": []
    },
    {
      "cell_type": "code",
      "metadata": {
        "id": "L42D0Eng_Mtq"
      },
      "source": [
        "class DBReader:\n",
        "\n",
        "\tdef\t__init__(self,filetoread):\n",
        "\t\tself.file_id = filetoread;\n",
        "\tdef\treadFile(self):\n",
        "\t\t# stores each transaction\n",
        "\t\tself.trans=[];\n",
        "\t\t# stores no of items in each tansaction\n",
        "\t\tself.no_items = [];\n",
        "\t\tfor\tline\tin\tself.file_id:\n",
        "\t\t\ttuplex=line.split(\" \");\n",
        "\t\t\tmylist=[];\n",
        "\t\t\tself.no_items.append(tuplex[0]);\n",
        "\t\t\tfor\tposition\tin\trange(1,len(tuplex)):\n",
        "\t\t\t\tmylist.append(tuplex[position]);\t\n",
        "\t\n",
        "\t\t\tself.trans.append(mylist);\n",
        "\n",
        "\t# From transactions: generate patterns and prepare a list\n",
        "\tdef\tgenPatternList(self):\n",
        "\t\t#all items\n",
        "\t\ttemp = [item for sublist in self.trans for item in sublist];\n",
        "\n",
        "\t\t#removing duplicates\n",
        "\t\tmy_set = set(temp)\n",
        "\t\tself.items = list(my_set)\n",
        "\n",
        "\t\t#put in sorted oirder\n",
        "\t\tself.items.sort();\n",
        "\t\t\n",
        "\t\t# generate level_1 pattern list\n",
        "\t\tself.level_1 = [];\n",
        "\n",
        "\t\t# Start the timmer as candidate generation for level 1 is a part of Eclat algorithm.\n",
        "\t\tstart_time = dt.datetime.now();\t\t\n",
        "\t\t\n",
        "\t\t#generate all candidates for level 1\n",
        "\t\tfor it in self.items:\n",
        "\t\t\titem = [];\n",
        "\t\t\titem.append(it)\n",
        "\t\t\tself.level_1.append(Pattern(item,[]));\t\n",
        "\t\t\n",
        "\t\t# generate tid_list for every items in level 1 \n",
        "\t\ti=0;\n",
        "\t\tfor t in self.trans:\n",
        "\t\t\ti = i + 1;\n",
        "\t\t\tt.sort();\n",
        "\t\t\tfor it_id in t:\n",
        "\t\t\t\tindex = self.items.index(it_id);\n",
        "\t\t\t\tself.level_1[index].tid_list.append(i);\n",
        "\t\n",
        "\t\treturn start_time;\n",
        "\n",
        "\t# returns frequent patterns\n",
        "\tdef\tgetFrequent(self,minsup):\n",
        "\t\tself.P = [];\n",
        "\t\tfor n in self.level_1:\n",
        "\t\t\tc = int(n.getSup());\n",
        "\t\t\tif  c >= minsup:\n",
        "\t\t\t\t#print c;\n",
        "\t\t\t\tself.P.append(n);\n",
        "\t\treturn self.P;\n",
        "\n",
        "#End of DBReader class"
      ],
      "execution_count": 14,
      "outputs": []
    },
    {
      "cell_type": "code",
      "metadata": {
        "id": "cVD9sHii_WKr"
      },
      "source": [
        "def main(file, support):\n",
        "\t#printing flag\n",
        "\tp_flag = 1;\n",
        "\n",
        "\t#parser = optparse.OptionParser(\"usage: %prog [options] arg1 arg2\")\n",
        "\t#parser.add_option(\"-f\",  dest=\"filename\", default=\"data.txt\", type=\"string\", help=\"specify filename to run on\");\n",
        "\t#parser.add_option(\"-s\",  dest=\"supnum\", default=0, type=\"int\", help=\"give minimun support to run on\");\n",
        "\t#parser.add_option(\"-p\",  dest=\"p\", default=1, type=\"int\");\n",
        "\t#(options, args) = parser.parse_args();\n",
        "\n",
        "\tparser = argparse.ArgumentParser();\n",
        "\tparser.add_argument(\"-f\",\"--filename\");\n",
        "\tparser.add_argument(\"-s\",\"--supnum\", type=int);\n",
        "\tparser.add_argument(\"-p\", \"--print_flag\", action=\"store_true\");\n",
        "\targs = parser.parse_args();\n",
        "\t\n",
        " \n",
        "\t#if\tlen(sys.argv) < 3:\n",
        "\t#\tprint('Please give me the filename &  minimum support value'+os.linesep);\n",
        "\t#\tsys.exit(1);\n",
        "\ttry:\t\n",
        "\t\t#file name\n",
        "\t\tf_name = file;\n",
        "\t\tfileToRead=open(f_name);\n",
        "\t\t#fileToRead = open(\"data.txt\");\n",
        "\t\t#Minimum Spport vlaue\t\n",
        "\t\tminsup = support;\n",
        "\t\t# printing flag \n",
        "\t\tif args.print_flag:\n",
        "\t\t\tp_flag = 1;\t\n",
        "\texcept(IOError,IndexError):\n",
        "\t\tprint('Bad file name'+os.linesep);\n",
        "\t\tsys.exit(1);\n",
        "\n",
        "\t\n",
        "\tprint('minsup = '+str(minsup));\n",
        "\n",
        "\t#minsup = 2;\n",
        "\n",
        "\t# DBReader object\n",
        "\treader = DBReader(fileToRead);\n",
        "\t#reading the file\n",
        "\treader.readFile();\n",
        "\t# Pattern generation for level 1 - It will return the starting time from when candidate generation is started.\t\n",
        "\tstart_time = reader.genPatternList();\n",
        "\t#print\n",
        "\t\n",
        "\t# Get frequent patterns from all candidates of level 1:\n",
        "\tlevel1_P = reader.getFrequent(minsup)\n",
        "\n",
        "\t#for n in level1_P:\n",
        "\t#\tprint n.item_id;\n",
        "\t#\tprint n.tid_list;\n",
        "\n",
        "\t#correct\n",
        "\n",
        "\t# Create Pattern Store object\n",
        "\tPttStr = PatternStore();\n",
        "\t\n",
        "\t# Add frequent patterns from level 1\n",
        "\tPttStr.addGroup(level1_P);\n",
        "\n",
        "\t# Eclat Algorithm\n",
        "\tPttStr.Eclat(minsup);\n",
        "\t\n",
        "\tend_time = dt.datetime.now();\n",
        "\t\n",
        "\t#print start_time;\n",
        "\t#print end_time;\n",
        "\t\t\n",
        "\ttime = end_time - start_time;\n",
        "\t\n",
        "\tprint('Computation time = '+ str(time.total_seconds()) + ' Seconds');\n",
        "\t\n",
        "\tif p_flag == 1:\n",
        "\t\tprint('Pattern\\t\\t : Tid_List');\t\n",
        "\t\tfor n in F:\n",
        "\t\t\tn.pattern_print();\n",
        "\n",
        "#End of main function"
      ],
      "execution_count": 15,
      "outputs": []
    },
    {
      "cell_type": "code",
      "metadata": {
        "colab": {
          "base_uri": "https://localhost:8080/"
        },
        "id": "NHWL4-ck_d7g",
        "outputId": "92e895bd-b16c-432a-ff94-2282c74491dd"
      },
      "source": [
        "# Geração dos itens frequentes\n",
        "if\t__name__== \"__main__\":\n",
        "\tmain('dados/transacoes2.txt', 3);"
      ],
      "execution_count": 16,
      "outputs": [
        {
          "output_type": "stream",
          "text": [
            "minsup = 3\n",
            "Computation time = 6.1e-05 Seconds\n",
            "Pattern\t\t : Tid_List\n",
            "Carvao \t\t : [1, 2, 3, 4]\n",
            "Carvao Cerveja \t\t : [1, 3, 4]\n",
            "Cerveja \t\t : [1, 3, 4]\n"
          ],
          "name": "stdout"
        }
      ]
    },
    {
      "cell_type": "code",
      "metadata": {
        "id": "l8ZGip33_zjb"
      },
      "source": [
        ""
      ],
      "execution_count": null,
      "outputs": []
    }
  ]
}